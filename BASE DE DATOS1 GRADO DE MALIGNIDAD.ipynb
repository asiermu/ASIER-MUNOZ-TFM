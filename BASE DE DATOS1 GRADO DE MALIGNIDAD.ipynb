{
 "cells": [
  {
   "cell_type": "markdown",
   "id": "b8a7c591",
   "metadata": {},
   "source": [
    "# ESTUDIO DE INVESTIGACIÓN SOBRE UNA BASE DE DATOS DE CANCER DE MAMA CSV 1"
   ]
  },
  {
   "cell_type": "markdown",
   "id": "474bec2d",
   "metadata": {},
   "source": [
    "## 1.PROCEDENCIA  Y INFORMACIÓN DE LOS DATOS\n"
   ]
  },
  {
   "cell_type": "markdown",
   "id": "cd718e36",
   "metadata": {},
   "source": [
    "En esta investigación trabajaremos con un CSV que contienen información sobre pacientes con cancer de mama.\n",
    "El  CSV se han obtenido de los siguientes links.\n",
    "\n",
    "https://www.kaggle.com/datasets/rohit265/breast-cancer-uci-machine-learning/data\n",
    "\n",
    "Ahora explicaremos que información hay en el csv."
   ]
  },
  {
   "cell_type": "markdown",
   "id": "be059e99",
   "metadata": {},
   "source": [
    "### 1.1 Información del  csv"
   ]
  },
  {
   "cell_type": "markdown",
   "id": "88189104",
   "metadata": {},
   "source": [
    "La información respecto al primer CSV llamaremos **DATABASE1**. \n",
    "\n",
    "En este CSV tenemos los datos de 286 pacientes.\n",
    "\n",
    "Tenemos 10 variables distintas, que contienen de diferente manera la información.\n",
    "\n",
    "**Class**: no-recurrence-events, recurrence-events\n",
    "    \n",
    "**age**: 10-19, 20-29, 30-39, 40-49, 50-59, 60-69, 70-79, 80-89, 90-99.\n",
    "    \n",
    "**menopause**: lt40, ge40, premeno.\n",
    "    \n",
    "**tumor-size**: 0-4, 5-9, 10-14, 15-19, 20-24, 25-29, 30-34, 35-39, 40-44, 45-49, 50-54, 55-59.\n",
    "    \n",
    "**inv-nodes**: 0-2, 3-5, 6-8, 9-11, 12-14, 15-17, 18-20, 21-23, 24-26, 27-29, 30-32, 33-35, 36-39.\n",
    "    \n",
    "**node-caps**: yes, no.\n",
    "    \n",
    "**deg-malig**: 1, 2, 3.\n",
    "    \n",
    "**breast**: left, right.\n",
    "    \n",
    "**breast-quad**: left-up, left-low, right-up, right-low, central.\n",
    "    \n",
    "**irradiat**: yes, no.\n",
    "\n",
    "El significado de cada variable \n",
    "\n",
    "**Class**:Indica si hay una recurrencia de eventos (\"recurrence-events\") o no (\"no-recurrence-events\"). \n",
    "\n",
    "**Age**:La edad de la persona, agrupada en rangos. Ejemplos de rangos pueden ser \"30-39\", \"40-49\", etc.\n",
    "\n",
    "**Menopause**:Estado de la menopausia, que puede ser \"premeno\" (premenopáusica) o \"ge40\" (mayor de 40 años).\n",
    "\n",
    "**Tumor-size**:Tamaño del tumor, representado en rangos como \"30-34\", \"20-24\", etc.\n",
    "\n",
    "**Inv-nodes**:Número de ganglios linfáticos involucrados, expresado en rangos como \"0-2\", \"3-5\", etc. \n",
    "\n",
    "**Node-caps**:Indica si la cápsula del nodo linfático está comprometida o no. Puede ser \"yes\" (sí) o \"no\" (no). \n",
    "\n",
    "**Deg-malig**:Grado de malignidad del tumor. Puede ser un valor numérico, por ejemplo, 1, 2, 3. \n",
    "\n",
    "**Breast**:Lado del pecho afectado, puede ser \"left\" (izquierdo) o \"right\" (derecho). \n",
    "\n",
    "**Breast-quad**:Cuadrante del pecho donde se encuentra el tumor. Puede ser \"left_low\", \"left_up\", \"right_low\", \"right_up\", etc. \n",
    "\n",
    "**Irradiat**:Indica si el tratamiento incluyó irradiación o no. Puede ser \"yes\" (sí) o \"no\" (no)."
   ]
  },
  {
   "cell_type": "markdown",
   "id": "2c1a99d8",
   "metadata": {},
   "source": [
    "### 1.2 Tipo de datos "
   ]
  },
  {
   "cell_type": "markdown",
   "id": "1de52abd",
   "metadata": {},
   "source": [
    "Es importante saber de que tipo son los datos que se manejan en este caso hay de todo la mayoria son agrupaciones de string, menos deg-malig\n",
    "que es un dato numerico. Hay que saber muy bien que tipo de dato y cual es el objetivo y las herramientas que se van a utilizar en el trabajo para \n",
    "hacer las transformaciones adecuadas. No tenemos datos continuos de modo que no se podra trabajar con medias, varianzas, outliers y demas información."
   ]
  },
  {
   "cell_type": "markdown",
   "id": "291f15a3",
   "metadata": {},
   "source": [
    "## 2. OBJETIVO"
   ]
  },
  {
   "cell_type": "markdown",
   "id": "7b02a643",
   "metadata": {},
   "source": [
    "En este ipynb no se mostrar la matematica aplicada detras de cada metodo, debido a que eso ya estara explicado en el pdf del TFM.\n",
    "En este trabajo como se trabajaran con 286 pacientes, no se puede sacar datos relevantes a la hora de hacer una suposicion generica del mundo del cancer mama es un ejemplo como se podria trabajar con una base de datos y en el momento de tener una base de datos grande hacer algo similar. Las conclusiones son solo para la informacion que tenemos.\n",
    "\n",
    "En esta investigación no hay un objetivo claro como tal si no ver que información relevante podemos obtener de la base de datos.\n",
    "Ver las variables que relaciones tienen e intentar conseguir metodos de predicciones fiables, en caso de no encontrarlos, explicar los motivos.\n",
    "A veces no es posible conseguir predicciones precisas debido a diferentes factores, en este trabajo en caso de no ser posible se explicaran esos factores y su relevancia.\n",
    "\n",
    "Para ello se utilizaran diferentes tecnincas. Es importante explicar como se ha utilizado la tecnica, con que objetivo se ha utilizado ,su diferencia respecto a otras tecnincas y porque se considerada adecuada o no.\n",
    "Muchas veces una tecninca puede ser adecuada para unos datos y no para otros.\n",
    "\n",
    "Teniendo encuenta los datos que tenemos los mas interesantes a la hora de predecir pueden ser los siguientes:\n",
    "\n",
    "**-El tamaño del tumor**\n",
    "\n",
    "**-La recurrencia**\n",
    "\n",
    "**-El grado de maligno**\n",
    "\n",
    "Si se observan los datos los demas datos pueden ser datos faciles de conseguir sin embargo estos datos parecen algo mas complejos de conseguir y los que nos interesara predecir.\n",
    "\n",
    "Hay que tener en cuenta todas las variables ver como puede afectar por ejemplo la edad al tamaño y diferentes factores.\n",
    "\n",
    "Podria resultar interesante tambien ver si el lado en el que se produce el cancer de mama tiene algo que ver con la malignidad debido a que entonces por ejemplo un medico podria decidir hacer antes una mamografia en un lado especifico para optimizar las herramientas costes y tiempo. Este tipo de conclusiones seran el objetivo del trabajo."
   ]
  },
  {
   "cell_type": "markdown",
   "id": "b2b50ac7",
   "metadata": {},
   "source": [
    "## 3.PROGRAMA"
   ]
  },
  {
   "cell_type": "markdown",
   "id": "a9cb9840",
   "metadata": {},
   "source": [
    "### 3.1 Importaciones necesarias para trabajar"
   ]
  },
  {
   "cell_type": "code",
   "execution_count": 2,
   "id": "67d28785",
   "metadata": {},
   "outputs": [],
   "source": [
    "# Load libraries\n",
    "import pandas as pd #Pandas es una biblioteca de manipulación y análisis de datos en Python.\n",
    "from sklearn.tree import DecisionTreeClassifier # Esta clase se utiliza para construir modelos de árboles de decisión.\n",
    "from sklearn.model_selection import train_test_split # Dividir conjuntos de datos en conjuntos de entrenamiento y prueba,\n",
    "from sklearn import metrics #funciones para evaluar el rendimiento de modelos(en este caso precisión)\n",
    "import matplotlib.pyplot as plt#para crear gráficos y visualizaciones\n",
    "import seaborn as sns #biblioteca de visualización que trabaja junto con Matplotlib para proporcionar estilos y funciones adicionales.\n",
    "from sklearn.preprocessing import OneHotEncoder#que se utiliza para realizar codificación one-hot en variables categóricas\n",
    "from sklearn.ensemble import BaggingClassifier# Para utilizar bagging\n",
    "from graphviz import Source#Graphviz es una herramienta para visualización de grafos y, en este contexto, se puede utilizar para visualizar gráficamente estructuras de árboles de decisión\n",
    "from sklearn.tree import export_graphviz#Exportar la estructura de un árbol de decisión en un formato que puede ser visualizado por Graphviz.\n",
    "import os #interfaz para interactuar con el sistema operativo. Se usa aquí para manipular rutas de archivos.\n",
    "from IPython.display import Image#Se utiliza para mostrar imágenes en un entorno de Jupyter Notebook.\n",
    "from subprocess import call#Llamar a comandos del sistema desde Python, como en el caso de convertir un archivo DOT a una imagen PNG usando Graphviz.\n",
    "from sklearn.model_selection import cross_val_score, KFold # Para la validación cruzada\n",
    "import numpy as np# para los arrays\n",
    "from sklearn.model_selection import GridSearchCV# para hacer la busqueda en la validación cruzada\n",
    "from sklearn.model_selection import StratifiedKFold, cross_val_score# Para la validación cruzada estratificada\n",
    "from sklearn.ensemble import RandomForestClassifier# Para traer el metodo random forest\n",
    "from sklearn.ensemble import GradientBoostingClassifier# Boosting"
   ]
  },
  {
   "cell_type": "markdown",
   "id": "5335badf",
   "metadata": {},
   "source": [
    "### 3.2 Base de datos"
   ]
  },
  {
   "cell_type": "markdown",
   "id": "6ed00908",
   "metadata": {},
   "source": [
    "#### 3.2.1 IMPORTACIÓN DE DATOS\n"
   ]
  },
  {
   "cell_type": "markdown",
   "id": "e3b4c895",
   "metadata": {},
   "source": [
    "En este submodulo traeremos la información del csv"
   ]
  },
  {
   "cell_type": "code",
   "execution_count": 4,
   "id": "e3838c9c",
   "metadata": {},
   "outputs": [
    {
     "name": "stdout",
     "output_type": "stream",
     "text": [
      "<class 'pandas.core.frame.DataFrame'>\n",
      "Int64Index: 286 entries, 0 to 285\n",
      "Data columns (total 10 columns):\n",
      " #   Column       Non-Null Count  Dtype \n",
      "---  ------       --------------  ----- \n",
      " 0   Class        286 non-null    object\n",
      " 1   Age          286 non-null    object\n",
      " 2   Menopause    286 non-null    object\n",
      " 3   Tumor-size   286 non-null    object\n",
      " 4   Inv-nodes    286 non-null    object\n",
      " 5   Node-caps    286 non-null    object\n",
      " 6   Deg-malig    286 non-null    int64 \n",
      " 7   Breast       286 non-null    object\n",
      " 8   Breast-quad  286 non-null    object\n",
      " 9   Irradiat     286 non-null    object\n",
      "dtypes: int64(1), object(9)\n",
      "memory usage: 24.6+ KB\n"
     ]
    },
    {
     "data": {
      "text/html": [
       "<div>\n",
       "<style scoped>\n",
       "    .dataframe tbody tr th:only-of-type {\n",
       "        vertical-align: middle;\n",
       "    }\n",
       "\n",
       "    .dataframe tbody tr th {\n",
       "        vertical-align: top;\n",
       "    }\n",
       "\n",
       "    .dataframe thead th {\n",
       "        text-align: right;\n",
       "    }\n",
       "</style>\n",
       "<table border=\"1\" class=\"dataframe\">\n",
       "  <thead>\n",
       "    <tr style=\"text-align: right;\">\n",
       "      <th></th>\n",
       "      <th>Class</th>\n",
       "      <th>Age</th>\n",
       "      <th>Menopause</th>\n",
       "      <th>Tumor-size</th>\n",
       "      <th>Inv-nodes</th>\n",
       "      <th>Node-caps</th>\n",
       "      <th>Deg-malig</th>\n",
       "      <th>Breast</th>\n",
       "      <th>Breast-quad</th>\n",
       "      <th>Irradiat</th>\n",
       "    </tr>\n",
       "  </thead>\n",
       "  <tbody>\n",
       "    <tr>\n",
       "      <th>0</th>\n",
       "      <td>no-recurrence-events</td>\n",
       "      <td>30-39</td>\n",
       "      <td>premeno</td>\n",
       "      <td>30-34</td>\n",
       "      <td>0-2</td>\n",
       "      <td>no</td>\n",
       "      <td>3</td>\n",
       "      <td>left</td>\n",
       "      <td>left_low</td>\n",
       "      <td>no</td>\n",
       "    </tr>\n",
       "    <tr>\n",
       "      <th>1</th>\n",
       "      <td>no-recurrence-events</td>\n",
       "      <td>40-49</td>\n",
       "      <td>premeno</td>\n",
       "      <td>20-24</td>\n",
       "      <td>0-2</td>\n",
       "      <td>no</td>\n",
       "      <td>2</td>\n",
       "      <td>right</td>\n",
       "      <td>right_up</td>\n",
       "      <td>no</td>\n",
       "    </tr>\n",
       "    <tr>\n",
       "      <th>2</th>\n",
       "      <td>no-recurrence-events</td>\n",
       "      <td>40-49</td>\n",
       "      <td>premeno</td>\n",
       "      <td>20-24</td>\n",
       "      <td>0-2</td>\n",
       "      <td>no</td>\n",
       "      <td>2</td>\n",
       "      <td>left</td>\n",
       "      <td>left_low</td>\n",
       "      <td>no</td>\n",
       "    </tr>\n",
       "    <tr>\n",
       "      <th>3</th>\n",
       "      <td>no-recurrence-events</td>\n",
       "      <td>60-69</td>\n",
       "      <td>ge40</td>\n",
       "      <td>15-19</td>\n",
       "      <td>0-2</td>\n",
       "      <td>no</td>\n",
       "      <td>2</td>\n",
       "      <td>right</td>\n",
       "      <td>left_up</td>\n",
       "      <td>no</td>\n",
       "    </tr>\n",
       "    <tr>\n",
       "      <th>4</th>\n",
       "      <td>no-recurrence-events</td>\n",
       "      <td>40-49</td>\n",
       "      <td>premeno</td>\n",
       "      <td>0-4</td>\n",
       "      <td>0-2</td>\n",
       "      <td>no</td>\n",
       "      <td>2</td>\n",
       "      <td>right</td>\n",
       "      <td>right_low</td>\n",
       "      <td>no</td>\n",
       "    </tr>\n",
       "    <tr>\n",
       "      <th>...</th>\n",
       "      <td>...</td>\n",
       "      <td>...</td>\n",
       "      <td>...</td>\n",
       "      <td>...</td>\n",
       "      <td>...</td>\n",
       "      <td>...</td>\n",
       "      <td>...</td>\n",
       "      <td>...</td>\n",
       "      <td>...</td>\n",
       "      <td>...</td>\n",
       "    </tr>\n",
       "    <tr>\n",
       "      <th>281</th>\n",
       "      <td>recurrence-events</td>\n",
       "      <td>30-39</td>\n",
       "      <td>premeno</td>\n",
       "      <td>30-34</td>\n",
       "      <td>0-2</td>\n",
       "      <td>no</td>\n",
       "      <td>2</td>\n",
       "      <td>left</td>\n",
       "      <td>left_up</td>\n",
       "      <td>no</td>\n",
       "    </tr>\n",
       "    <tr>\n",
       "      <th>282</th>\n",
       "      <td>recurrence-events</td>\n",
       "      <td>30-39</td>\n",
       "      <td>premeno</td>\n",
       "      <td>20-24</td>\n",
       "      <td>0-2</td>\n",
       "      <td>no</td>\n",
       "      <td>3</td>\n",
       "      <td>left</td>\n",
       "      <td>left_up</td>\n",
       "      <td>yes</td>\n",
       "    </tr>\n",
       "    <tr>\n",
       "      <th>283</th>\n",
       "      <td>recurrence-events</td>\n",
       "      <td>60-69</td>\n",
       "      <td>ge40</td>\n",
       "      <td>20-24</td>\n",
       "      <td>0-2</td>\n",
       "      <td>no</td>\n",
       "      <td>1</td>\n",
       "      <td>right</td>\n",
       "      <td>left_up</td>\n",
       "      <td>no</td>\n",
       "    </tr>\n",
       "    <tr>\n",
       "      <th>284</th>\n",
       "      <td>recurrence-events</td>\n",
       "      <td>40-49</td>\n",
       "      <td>ge40</td>\n",
       "      <td>30-34</td>\n",
       "      <td>3-5</td>\n",
       "      <td>no</td>\n",
       "      <td>3</td>\n",
       "      <td>left</td>\n",
       "      <td>left_low</td>\n",
       "      <td>no</td>\n",
       "    </tr>\n",
       "    <tr>\n",
       "      <th>285</th>\n",
       "      <td>recurrence-events</td>\n",
       "      <td>50-59</td>\n",
       "      <td>ge40</td>\n",
       "      <td>30-34</td>\n",
       "      <td>3-5</td>\n",
       "      <td>no</td>\n",
       "      <td>3</td>\n",
       "      <td>left</td>\n",
       "      <td>left_low</td>\n",
       "      <td>no</td>\n",
       "    </tr>\n",
       "  </tbody>\n",
       "</table>\n",
       "<p>286 rows × 10 columns</p>\n",
       "</div>"
      ],
      "text/plain": [
       "                    Class    Age Menopause Tumor-size Inv-nodes Node-caps  \\\n",
       "0    no-recurrence-events  30-39   premeno      30-34       0-2        no   \n",
       "1    no-recurrence-events  40-49   premeno      20-24       0-2        no   \n",
       "2    no-recurrence-events  40-49   premeno      20-24       0-2        no   \n",
       "3    no-recurrence-events  60-69      ge40      15-19       0-2        no   \n",
       "4    no-recurrence-events  40-49   premeno        0-4       0-2        no   \n",
       "..                    ...    ...       ...        ...       ...       ...   \n",
       "281     recurrence-events  30-39   premeno      30-34       0-2        no   \n",
       "282     recurrence-events  30-39   premeno      20-24       0-2        no   \n",
       "283     recurrence-events  60-69      ge40      20-24       0-2        no   \n",
       "284     recurrence-events  40-49      ge40      30-34       3-5        no   \n",
       "285     recurrence-events  50-59      ge40      30-34       3-5        no   \n",
       "\n",
       "     Deg-malig Breast Breast-quad Irradiat  \n",
       "0            3   left    left_low       no  \n",
       "1            2  right    right_up       no  \n",
       "2            2   left    left_low       no  \n",
       "3            2  right     left_up       no  \n",
       "4            2  right   right_low       no  \n",
       "..         ...    ...         ...      ...  \n",
       "281          2   left     left_up       no  \n",
       "282          3   left     left_up      yes  \n",
       "283          1  right     left_up       no  \n",
       "284          3   left    left_low       no  \n",
       "285          3   left    left_low       no  \n",
       "\n",
       "[286 rows x 10 columns]"
      ]
     },
     "execution_count": 4,
     "metadata": {},
     "output_type": "execute_result"
    }
   ],
   "source": [
    "col_names = ['Class','Age','Menopause','Tumor-size','Inv-nodes','Node-caps','Deg-malig','Breast','Breast-quad','Irradiat']\n",
    "# load dataset\n",
    "DATABASE1= pd.read_csv(\"breast-cancer.csv\", header=0, names=col_names)\n",
    "DATABASE1.info()\n",
    "DATABASE1"
   ]
  },
  {
   "cell_type": "markdown",
   "id": "5bfcb990",
   "metadata": {},
   "source": [
    "Se puede ver la información que traemos, cuadra perfectamente con lo que hemos definido en el apartado 1.1.\n",
    "Se aprecia el unico dato numerico es el Deg-malig el unico que nos interesara su descripción."
   ]
  },
  {
   "cell_type": "code",
   "execution_count": 26,
   "id": "7556faee",
   "metadata": {},
   "outputs": [
    {
     "data": {
      "text/html": [
       "<div>\n",
       "<style scoped>\n",
       "    .dataframe tbody tr th:only-of-type {\n",
       "        vertical-align: middle;\n",
       "    }\n",
       "\n",
       "    .dataframe tbody tr th {\n",
       "        vertical-align: top;\n",
       "    }\n",
       "\n",
       "    .dataframe thead th {\n",
       "        text-align: right;\n",
       "    }\n",
       "</style>\n",
       "<table border=\"1\" class=\"dataframe\">\n",
       "  <thead>\n",
       "    <tr style=\"text-align: right;\">\n",
       "      <th></th>\n",
       "      <th>Deg-malig</th>\n",
       "    </tr>\n",
       "  </thead>\n",
       "  <tbody>\n",
       "    <tr>\n",
       "      <th>count</th>\n",
       "      <td>286.000000</td>\n",
       "    </tr>\n",
       "    <tr>\n",
       "      <th>mean</th>\n",
       "      <td>2.048951</td>\n",
       "    </tr>\n",
       "    <tr>\n",
       "      <th>std</th>\n",
       "      <td>0.738217</td>\n",
       "    </tr>\n",
       "    <tr>\n",
       "      <th>min</th>\n",
       "      <td>1.000000</td>\n",
       "    </tr>\n",
       "    <tr>\n",
       "      <th>25%</th>\n",
       "      <td>2.000000</td>\n",
       "    </tr>\n",
       "    <tr>\n",
       "      <th>50%</th>\n",
       "      <td>2.000000</td>\n",
       "    </tr>\n",
       "    <tr>\n",
       "      <th>75%</th>\n",
       "      <td>3.000000</td>\n",
       "    </tr>\n",
       "    <tr>\n",
       "      <th>max</th>\n",
       "      <td>3.000000</td>\n",
       "    </tr>\n",
       "  </tbody>\n",
       "</table>\n",
       "</div>"
      ],
      "text/plain": [
       "        Deg-malig\n",
       "count  286.000000\n",
       "mean     2.048951\n",
       "std      0.738217\n",
       "min      1.000000\n",
       "25%      2.000000\n",
       "50%      2.000000\n",
       "75%      3.000000\n",
       "max      3.000000"
      ]
     },
     "execution_count": 26,
     "metadata": {},
     "output_type": "execute_result"
    }
   ],
   "source": [
    "DATABASE1.describe()"
   ]
  },
  {
   "cell_type": "markdown",
   "id": "92788458",
   "metadata": {},
   "source": [
    "#### 3.2.2 MODIFICAR LA INFORMACIÓN A  NUMERICA"
   ]
  },
  {
   "cell_type": "markdown",
   "id": "c40670cc",
   "metadata": {},
   "source": [
    " Para poder trabajar con arboles,regresiones y diferentes tecnicas he valorado pasar a numerico la información. \n",
    " Cada grupo de string se asignara un numero. Esto si tengo tres grupos de edades cada grupo sera un numero.\n",
    "Esto nos permitira tener información de la variables y poder trabajar mejor en los arboles de decisiones."
   ]
  },
  {
   "cell_type": "code",
   "execution_count": 8,
   "id": "d3ba824d",
   "metadata": {},
   "outputs": [
    {
     "name": "stdout",
     "output_type": "stream",
     "text": [
      "Frecuencias para la columna Class:\n",
      "no-recurrence-events    201\n",
      "recurrence-events        85\n",
      "Name: Class, dtype: int64\n",
      "\n",
      "Frecuencias para la columna Age:\n",
      "50-59    96\n",
      "40-49    90\n",
      "60-69    57\n",
      "30-39    36\n",
      "70-79     6\n",
      "20-29     1\n",
      "Name: Age, dtype: int64\n",
      "\n",
      "Frecuencias para la columna Menopause:\n",
      "premeno    150\n",
      "ge40       129\n",
      "lt40         7\n",
      "Name: Menopause, dtype: int64\n",
      "\n",
      "Frecuencias para la columna Tumor-size:\n",
      "30-34    60\n",
      "25-29    54\n",
      "20-24    50\n",
      "15-19    30\n",
      "10-14    28\n",
      "40-44    22\n",
      "35-39    19\n",
      "0-4       8\n",
      "50-54     8\n",
      "5-9       4\n",
      "45-49     3\n",
      "Name: Tumor-size, dtype: int64\n",
      "\n",
      "Frecuencias para la columna Inv-nodes:\n",
      "0-2      213\n",
      "3-5       36\n",
      "6-8       17\n",
      "9-11      10\n",
      "15-17      6\n",
      "12-14      3\n",
      "24-26      1\n",
      "Name: Inv-nodes, dtype: int64\n",
      "\n",
      "Frecuencias para la columna Node-caps:\n",
      "no     222\n",
      "yes     56\n",
      "?        8\n",
      "Name: Node-caps, dtype: int64\n",
      "\n",
      "Frecuencias para la columna Deg-malig:\n",
      "2    130\n",
      "3     85\n",
      "1     71\n",
      "Name: Deg-malig, dtype: int64\n",
      "\n",
      "Frecuencias para la columna Breast:\n",
      "left     152\n",
      "right    134\n",
      "Name: Breast, dtype: int64\n",
      "\n",
      "Frecuencias para la columna Breast-quad:\n",
      "left_low     110\n",
      "left_up       97\n",
      "right_up      33\n",
      "right_low     24\n",
      "central       21\n",
      "?              1\n",
      "Name: Breast-quad, dtype: int64\n",
      "\n",
      "Frecuencias para la columna Irradiat:\n",
      "no     218\n",
      "yes     68\n",
      "Name: Irradiat, dtype: int64\n",
      "\n"
     ]
    }
   ],
   "source": [
    "frecuencias_por_columna = {}\n",
    "for column in DATABASE1.columns:\n",
    "    if column != 'deg_malig':\n",
    "        frecuencias_por_columna[column] = DATABASE1[column].value_counts()\n",
    "\n",
    "# Mostrar las frecuencias\n",
    "for column, frecuencias in frecuencias_por_columna.items():\n",
    "    print(f\"Frecuencias para la columna {column}:\\n{frecuencias}\\n\")\n"
   ]
  },
  {
   "cell_type": "markdown",
   "id": "e781a933",
   "metadata": {},
   "source": [
    " Esto nos enseña la frecuencia de cada grupo de string en cada variable, se puede ver que hay un dato en la localización del lugar del tumor en el pecho que es que no se sabe.\n",
    "Se puede ver que cada variable esta distribuida de diferente manera para ver eso se hara un histograma, antes vamos a asignar un numero a cada grupo de la variable.\n"
   ]
  },
  {
   "cell_type": "code",
   "execution_count": 24,
   "id": "81b6ba60",
   "metadata": {},
   "outputs": [
    {
     "name": "stdout",
     "output_type": "stream",
     "text": [
      "DATABASE2:\n",
      "     Class_numerico  Age_numerico  Menopause_numerico  Tumor-size_numerico  \\\n",
      "0                 0             0                   0                    0   \n",
      "1                 0             1                   0                    1   \n",
      "2                 0             1                   0                    1   \n",
      "3                 0             2                   1                    2   \n",
      "4                 0             1                   0                    3   \n",
      "..              ...           ...                 ...                  ...   \n",
      "281               1             0                   0                    0   \n",
      "282               1             0                   0                    1   \n",
      "283               1             2                   1                    1   \n",
      "284               1             1                   1                    0   \n",
      "285               1             3                   1                    0   \n",
      "\n",
      "     Inv-nodes_numerico  Node-caps_numerico  Deg-malig_numerico  \\\n",
      "0                     0                   0                   3   \n",
      "1                     0                   0                   2   \n",
      "2                     0                   0                   2   \n",
      "3                     0                   0                   2   \n",
      "4                     0                   0                   2   \n",
      "..                  ...                 ...                 ...   \n",
      "281                   0                   0                   2   \n",
      "282                   0                   0                   3   \n",
      "283                   0                   0                   1   \n",
      "284                   3                   0                   3   \n",
      "285                   3                   0                   3   \n",
      "\n",
      "     Breast_numerico  Breast-quad_numerico  Irradiat_numerico  \n",
      "0                  0                     0                  0  \n",
      "1                  1                     1                  0  \n",
      "2                  0                     0                  0  \n",
      "3                  1                     2                  0  \n",
      "4                  1                     3                  0  \n",
      "..               ...                   ...                ...  \n",
      "281                0                     2                  0  \n",
      "282                0                     2                  1  \n",
      "283                1                     2                  0  \n",
      "284                0                     0                  0  \n",
      "285                0                     0                  0  \n",
      "\n",
      "[286 rows x 10 columns]\n",
      "\n",
      "Relación entre categorías originales y números asignados en Class_numerico:\n",
      "0: no-recurrence-events (Frecuencia: 201)\n",
      "1: recurrence-events (Frecuencia: 85)\n",
      "\n",
      "Relación entre categorías originales y números asignados en Age_numerico:\n",
      "3: 50-59 (Frecuencia: 96)\n",
      "1: 40-49 (Frecuencia: 90)\n",
      "2: 60-69 (Frecuencia: 57)\n",
      "0: 30-39 (Frecuencia: 36)\n",
      "4: 70-79 (Frecuencia: 6)\n",
      "5: 20-29 (Frecuencia: 1)\n",
      "\n",
      "Relación entre categorías originales y números asignados en Menopause_numerico:\n",
      "0: premeno (Frecuencia: 150)\n",
      "1: ge40 (Frecuencia: 129)\n",
      "2: lt40 (Frecuencia: 7)\n",
      "\n",
      "Relación entre categorías originales y números asignados en Tumor-size_numerico:\n",
      "0: 30-34 (Frecuencia: 60)\n",
      "4: 25-29 (Frecuencia: 54)\n",
      "1: 20-24 (Frecuencia: 50)\n",
      "2: 15-19 (Frecuencia: 30)\n",
      "6: 10-14 (Frecuencia: 28)\n",
      "7: 40-44 (Frecuencia: 22)\n",
      "8: 35-39 (Frecuencia: 19)\n",
      "3: 0-4 (Frecuencia: 8)\n",
      "5: 50-54 (Frecuencia: 8)\n",
      "9: 5-9 (Frecuencia: 4)\n",
      "10: 45-49 (Frecuencia: 3)\n",
      "\n",
      "Relación entre categorías originales y números asignados en Inv-nodes_numerico:\n",
      "0: 0-2 (Frecuencia: 213)\n",
      "3: 3-5 (Frecuencia: 36)\n",
      "1: 6-8 (Frecuencia: 17)\n",
      "2: 9-11 (Frecuencia: 10)\n",
      "4: 15-17 (Frecuencia: 6)\n",
      "5: 12-14 (Frecuencia: 3)\n",
      "6: 24-26 (Frecuencia: 1)\n",
      "\n",
      "Relación entre categorías originales y números asignados en Node-caps_numerico:\n",
      "0: no (Frecuencia: 222)\n",
      "1: yes (Frecuencia: 56)\n",
      "2: ? (Frecuencia: 8)\n",
      "\n",
      "Relación entre categorías originales y números asignados en Deg-malig_numerico:\n",
      "2: 2 (Frecuencia: 130)\n",
      "3: 3 (Frecuencia: 85)\n",
      "1: 1 (Frecuencia: 71)\n",
      "\n",
      "Relación entre categorías originales y números asignados en Breast_numerico:\n",
      "0: left (Frecuencia: 152)\n",
      "1: right (Frecuencia: 134)\n",
      "\n",
      "Relación entre categorías originales y números asignados en Breast-quad_numerico:\n",
      "0: left_low (Frecuencia: 110)\n",
      "2: left_up (Frecuencia: 97)\n",
      "1: right_up (Frecuencia: 33)\n",
      "3: right_low (Frecuencia: 24)\n",
      "4: central (Frecuencia: 21)\n",
      "5: ? (Frecuencia: 1)\n",
      "\n",
      "Relación entre categorías originales y números asignados en Irradiat_numerico:\n",
      "0: no (Frecuencia: 218)\n",
      "1: yes (Frecuencia: 68)\n"
     ]
    }
   ],
   "source": [
    "import pandas as pd\n",
    "\n",
    "# Supongamos que ya tenemos DATABASE1 definido\n",
    "\n",
    "# DATABASE2 será nuestra nueva base de datos \n",
    "DATABASE2 = pd.DataFrame()\n",
    "for column in DATABASE1.columns:\n",
    "    if DATABASE1[column].dtype == 'object' and column.lower() != 'deg_malig':\n",
    "        DATABASE2[column + '_numerico'], _ = DATABASE1[column].factorize()\n",
    "    else:\n",
    "        DATABASE2[column + '_numerico'] = DATABASE1[column]\n",
    "\n",
    "# Mostrar DATABASE2\n",
    "print(\"DATABASE2:\")\n",
    "print(DATABASE2)\n",
    "\n",
    "# Imprimir relaciones entre categorías originales y números asignados\n",
    "for column in DATABASE2.columns:\n",
    "    print(f\"\\nRelación entre categorías originales y números asignados en {column}:\")\n",
    "    if '_numerico' in column:\n",
    "        if column.lower() == 'deg_malig_numerico':\n",
    "            # Obtener el orden original de las categorías\n",
    "            categorias_ordenadas = DATABASE1[column.replace('_numerico', '')].unique()\n",
    "            for categoria in categorias_ordenadas:\n",
    "                frecuencia = DATABASE2[column].value_counts()[categoria]\n",
    "                print(f\"{categoria}: {categoria} (Frecuencia: {frecuencia})\")\n",
    "        else:\n",
    "            for categoria, frecuencia in DATABASE2[column].value_counts().items():\n",
    "                categoria_original = DATABASE1.loc[DATABASE2[column] == categoria, column.replace('_numerico', '')].iloc[0]\n",
    "                print(f\"{categoria}: {categoria_original} (Frecuencia: {frecuencia})\")\n"
   ]
  },
  {
   "cell_type": "markdown",
   "id": "9476294f",
   "metadata": {},
   "source": [
    " CUIDADO CON DEG_MALIG que se ha cambiado tambien a numerico tener en cuenta despues cuando se obtienen los resultados."
   ]
  },
  {
   "cell_type": "markdown",
   "id": "638c18bf",
   "metadata": {},
   "source": [
    "#### 3.2.3 HISTOGRAMAS"
   ]
  },
  {
   "cell_type": "markdown",
   "id": "8354c48e",
   "metadata": {},
   "source": [
    "Ahora haremos los histogramas de las variables para mas o menos saber como se distribuye la informacion de cada variables,\n",
    "esto es importante para saber con que datos estamos trabajando. En este caso hacer un Boxplot no es util ya que la información\n",
    "que tenemos es grupal esto es discreta no es continua, entonces no sabemos si hay algun outlier. Cuando hacemos describe tener la media\n",
    "indica que grupo estara de media pero no nos indica el valor exacto, en nuestro datos los outliers no valen ya que si media es grupo dos nuestro datos de grupo 5 el boxplot\n",
    "te podria hacer pensar que es un outlier pero es algo erroneo. Por eso es importante entender los datos que se tienen y que representa, porque aunque se ejecute algo de manera adecuada puede que con los datos que se tiene no tenga logica y lleve a deducciones erroneas aunque el programa este bien ejecutado."
   ]
  },
  {
   "cell_type": "code",
   "execution_count": 29,
   "id": "0f7d5d21",
   "metadata": {},
   "outputs": [
    {
     "data": {
      "image/png": "[encoded data removed]",
      "text/plain": [
       "<Figure size 600x600 with 12 Axes>"
      ]
     },
     "metadata": {},
     "output_type": "display_data"
    }
   ],
   "source": [
    "DATABASE2.hist(bins=10, figsize=(6, 6))\n",
    "plt.tight_layout()\n",
    "plt.show()\n"
   ]
  },
  {
   "cell_type": "markdown",
   "id": "069dc081",
   "metadata": {},
   "source": [
    "Lo que se ha visto antes en la frecuencia de cada grupo se ve de manera mas visual e inmediata. Por ejemplo se puede apreciar claramente\n",
    "que la capsula linfatica pocas veces esta dañada o que el lado del pecho del cancer esta bastante igualado. Es importante \n",
    "tener una imagen de la distribucion de los datos ya que estos sesgan bastante el resultado del arbol por ejemplo."
   ]
  },
  {
   "cell_type": "markdown",
   "id": "08e065c5",
   "metadata": {},
   "source": [
    "### 3.3 PREDECIR EL GRADO DE MALIGNIDAD"
   ]
  },
  {
   "cell_type": "markdown",
   "id": "b7d821c3",
   "metadata": {},
   "source": [
    "En este modulo intentaremos obtener un metodo de predicción del grado de malignidad de manera adecuada que tenga una precisión acorde con lo que nosotros consideramos buena precisión. Hay que tener en cuenta que la precisión adecuada es algo relativo.\n",
    "Imaginate que sin operar no hay riesgos para el paciente, pero si el opera hay riesgo pero mejora para decidir si se le opera o no se tendra que tener una precisión alta de saber si va a ser buena la operación o no. No se puede operar si no se esta seguro de que es fiable la predicción. Sin embargo en un caso de urgencia hay que decidir si se atiende  de urgencia al paciente o no, dependiendo del estado de grado de malignidad, puede ser grave o muy grave si es grave no se atiende y si es muy grave se atiende, en caso de atender siendo grave muere y si no se atiende siendo muy grave muere. Si hay que jugarsela al %50 y tenemos un tecnica de precisión del %60, pues en este caso la tecnica del %60 de precisión sera mas util y valdra esa precisión.\n"
   ]
  },
  {
   "cell_type": "markdown",
   "id": "dabb6fb0",
   "metadata": {},
   "source": [
    "Es importante destacar que al tener solo tres opciones de resultado final antes de hacer la predicción se puede intentar acertar con \n",
    "un %33 de probabilidad. Toda la precisión cercana a este numero no resultara muy valiosa."
   ]
  },
  {
   "cell_type": "markdown",
   "id": "fb10bf35",
   "metadata": {},
   "source": [
    "#### 3.3.1 DIVIDIR LA BASE DE DATOS EN ENTRENAMIENTO Y PARA TESTEAR"
   ]
  },
  {
   "cell_type": "code",
   "execution_count": 10,
   "id": "52c4abf5",
   "metadata": {},
   "outputs": [],
   "source": [
    "features=['Class_numerico','Age_numerico','Menopause_numerico','Tumor-size_numerico','Inv-nodes_numerico','Node-caps_numerico','Breast_numerico','Breast-quad_numerico','Irradiat_numerico'] # Features\n",
    "y = DATABASE2['Deg-malig_numerico'] # Target variable\n",
    "X=DATABASE2[features]\n",
    "# Split dataset into training set and test set\n",
    "X_train, X_test, y_train, y_test = train_test_split(X, \n",
    "                                                    y,\n",
    "                                                    test_size=0.3,\n",
    "                                                    random_state=1) # 70% training and 30% test\n"
   ]
  },
  {
   "cell_type": "markdown",
   "id": "1d235c8c",
   "metadata": {},
   "source": [
    "Se ha decidido un %70 para entrenar porque es una cifra adecuada pero se puede modificar, si fuese muy pequeña esta cifra habria \n",
    "poco datos de entrenamiento y por tanto el metodo no seria muy fiable y al reves habria datos de testeo muy pequeño y esto podria indicar una precisión muy alta de manera bastante mal interpretable.\n",
    "\n",
    "Es importante el random_state para que cada vez que ejecutemos trabajemos con los mismos datos y no nos lo genere de nuevo aleatoriamente ya que esto generaria mucha confusión en los datos obtenidos.\n"
   ]
  },
  {
   "cell_type": "markdown",
   "id": "d75ed636",
   "metadata": {},
   "source": [
    "#### 3.3.2 ARBOL DE DECISIÓN"
   ]
  },
  {
   "cell_type": "code",
   "execution_count": 31,
   "id": "b2580f9e",
   "metadata": {},
   "outputs": [],
   "source": [
    "# Create Decision Tree classifer object\n",
    "clf = DecisionTreeClassifier(random_state=3,\n",
    "                             max_depth=8,\n",
    "                             min_samples_leaf=5\n",
    "                            )\n",
    "\n",
    "# Train Decision Tree Classifer\n",
    "clf = clf.fit(X_train, y_train)\n",
    "\n",
    "#Predict the response for test dataset\n",
    "y_pred = clf.predict(X_test)"
   ]
  },
  {
   "cell_type": "markdown",
   "id": "566578b9",
   "metadata": {},
   "source": [
    "Es importante decidir el minimo de hojas y el maximo de profundidad dependiendo de eso cambia la predicción.\n",
    "El random_state es importante por el mismo hehco que en el apartado anterior mantener el mismo ejemplo."
   ]
  },
  {
   "cell_type": "code",
   "execution_count": 32,
   "id": "bb00d432",
   "metadata": {},
   "outputs": [
    {
     "name": "stdout",
     "output_type": "stream",
     "text": [
      "PRECISIÓN: 0.36046511627906974\n"
     ]
    }
   ],
   "source": [
    "# Model Accuracy\n",
    "print(\"PRECISIÓN:\", metrics.accuracy_score(y_test, y_pred))"
   ]
  },
  {
   "cell_type": "markdown",
   "id": "fdbd7f2b",
   "metadata": {},
   "source": [
    "Como hemos dicho antes es mala precisión debido a que se acerca mucho al %33 inicial que se tenia, es un metodo mejor que puramente aleatorio\n",
    "pero no adecuado."
   ]
  },
  {
   "cell_type": "markdown",
   "id": "fde2d388",
   "metadata": {},
   "source": [
    "Como ya sabemos que no es adecuado no imprimiremos el arbol para no gastar ni memoria ni trabajar en bano."
   ]
  },
  {
   "cell_type": "markdown",
   "id": "fdd7d389",
   "metadata": {},
   "source": [
    "Si metemos la variable objetivi en los datos de entrenamiento X conseguiremos una buena precisión pero mal interpretada\n",
    "debido a que esa buena precisión se ha conseguido porque se ha tenido en cuenta en las variables predictoras la variable a predecir y \n",
    "esto produce un sobreajuste.\n",
    "\n",
    "Es importantisimo saber interpretar los datos obtenidos porque aunque se obtenga de manera adecuada pueden ser malinterpretadas,\n",
    "una cosa es el calculo hecho y el numero obtenido, y otra cosa es lo que representa."
   ]
  },
  {
   "cell_type": "markdown",
   "id": "03e83957",
   "metadata": {},
   "source": [
    "#### 3.3.3 ENSAMBLE"
   ]
  },
  {
   "cell_type": "markdown",
   "id": "82a039ff",
   "metadata": {},
   "source": [
    "a combinación de múltiples modelos para mejorar el rendimiento general del sistema. Los métodos de ensamblado combinan las predicciones de varios modelos base para producir una predicción más robusta y precisa.\n",
    "\n",
    "Hay dos enfoques principales:\n",
    "    \n",
    "**Bagging (Bootstrap Aggregating)**: Este enfoque implica entrenar múltiples instancias del mismo modelo base en diferentes subconjuntos de datos creados mediante el muestreo con reemplazo (bootstrap). Luego, las predicciones de cada modelo se promedian o votan para obtener la predicción final. El Random Forest es un ejemplo popular de un algoritmo que utiliza bagging.\n",
    "\n",
    "**Boosting**: En este enfoque, los modelos se entrenan secuencialmente, y cada modelo intenta corregir los errores cometidos por los modelos anteriores. Cada modelo se pondera según su rendimiento, y las predicciones finales se obtienen sumando las contribuciones ponderadas de todos los modelos. AdaBoost y Gradient Boosting son ejemplos comunes de algoritmos de boosting."
   ]
  },
  {
   "cell_type": "markdown",
   "id": "c5235f77",
   "metadata": {},
   "source": [
    "##### 3.3.3.1 BAGGING"
   ]
  },
  {
   "cell_type": "code",
   "execution_count": 33,
   "id": "bfb6915f",
   "metadata": {},
   "outputs": [],
   "source": [
    "# crear objeto de la clase BaggingClassifier\n",
    "bag_clf= BaggingClassifier(\n",
    "    DecisionTreeClassifier(random_state = 3),\n",
    "    n_estimators = 500,\n",
    "    max_samples = 75,\n",
    "    bootstrap=False,\n",
    "    random_state = 3);"
   ]
  },
  {
   "cell_type": "code",
   "execution_count": 34,
   "id": "697c8910",
   "metadata": {},
   "outputs": [
    {
     "name": "stdout",
     "output_type": "stream",
     "text": [
      "PRECISIÓN: 0.43023255813953487\n"
     ]
    }
   ],
   "source": [
    "# obtener estimaciones del modelo sobre la muestra de test\n",
    "\n",
    "bag_clf.fit(X_train, y_train)\n",
    "y_pred = bag_clf.predict(X_test)\n",
    "# comprobar resultados\n",
    "print(\"PRECISIÓN:\", metrics.accuracy_score(y_test, y_pred))"
   ]
  },
  {
   "cell_type": "markdown",
   "id": "764a76b4",
   "metadata": {},
   "source": [
    "Se ha ganado precisión pero aun asi es muy bajo, hay que tener en cuenta que muchas veces los metodos no son adecuados debido\n",
    "a los datos que se tienen. Muchas veces con los datos que se tienen con ciertas tecnicas no se puede obtener buenos resultados."
   ]
  },
  {
   "cell_type": "markdown",
   "id": "5bf4099e",
   "metadata": {},
   "source": [
    "Hay que jugar con la cantidad de arboles elegidos y la cantidad de datos de entrenamientos elegidos para cada arbol."
   ]
  },
  {
   "cell_type": "markdown",
   "id": "1666b2a4",
   "metadata": {},
   "source": [
    "**Bagging con Bootstrap (bootstrap=True)**:Cada clasificador base se entrena en un conjunto de datos de entrenamiento generado mediante muestreo con reemplazo (bootstrap) a partir del conjunto de datos original. Esto significa que algunas muestras pueden repetirse en el conjunto de entrenamiento de un clasificador base, y otras pueden estar ausentes.\n",
    "\n",
    "**Bagging sin Bootstrap (bootstrap=False)**:En este caso, no se utiliza muestreo con reemplazo. Cada clasificador base se entrena en un conjunto de datos único generado mediante muestreo sin reemplazo del conjunto de datos original. Cada muestra se utiliza exactamente una vez para entrenar un clasificador base."
   ]
  },
  {
   "cell_type": "markdown",
   "id": "215119e7",
   "metadata": {},
   "source": [
    " veces, la elección de no utilizar todo el conjunto de entrenamiento se realiza para introducir variabilidad incluso en el caso sin bootstrap, lo que puede ayudar a reducir la correlación entre los modelos y, por lo tanto, mejorar la diversidad del ensemble. Además, puede tener beneficios computacionales, ya que el uso de un subconjunto más pequeño de datos puede acelerar el proceso de entrenamiento."
   ]
  },
  {
   "cell_type": "code",
   "execution_count": 35,
   "id": "57211434",
   "metadata": {},
   "outputs": [
    {
     "name": "stdout",
     "output_type": "stream",
     "text": [
      "PRECISIÓN: 0.38372093023255816\n"
     ]
    }
   ],
   "source": [
    "# crear objeto de la clase BaggingClassifier\n",
    "bag_clf= BaggingClassifier(\n",
    "    DecisionTreeClassifier(random_state = 3),\n",
    "    n_estimators = 500,\n",
    "    max_samples = 75,\n",
    "    bootstrap=True,\n",
    "    random_state = 3);\n",
    "bag_clf.fit(X_train, y_train)\n",
    "y_pred = bag_clf.predict(X_test)\n",
    "# comprobar resultados\n",
    "print(\"PRECISIÓN:\", metrics.accuracy_score(y_test, y_pred))"
   ]
  },
  {
   "cell_type": "markdown",
   "id": "9298db59",
   "metadata": {},
   "source": [
    "Es menos preciso con bootstrap"
   ]
  },
  {
   "cell_type": "code",
   "execution_count": 36,
   "id": "ccff5e11",
   "metadata": {},
   "outputs": [
    {
     "name": "stdout",
     "output_type": "stream",
     "text": [
      "PRECISIÓN: 0.4069767441860465\n"
     ]
    }
   ],
   "source": [
    "# crear objeto de la clase BaggingClassifier\n",
    "bag_clf= BaggingClassifier(\n",
    "    DecisionTreeClassifier(random_state = 3),\n",
    "    n_estimators = 500,\n",
    "    max_samples = 150,\n",
    "    bootstrap=False,\n",
    "    random_state = 3);\n",
    "bag_clf.fit(X_train, y_train)\n",
    "y_pred = bag_clf.predict(X_test)\n",
    "# comprobar resultados\n",
    "print(\"PRECISIÓN:\", metrics.accuracy_score(y_test, y_pred))"
   ]
  },
  {
   "cell_type": "markdown",
   "id": "a19681a6",
   "metadata": {},
   "source": [
    "ES MENOS PRECISO CON 150 datos cada arbol que con 75"
   ]
  },
  {
   "cell_type": "markdown",
   "id": "5322d0c9",
   "metadata": {},
   "source": [
    "Algunas razones por las cuales **el uso de bootstrap podría resultar en una menor precisión** incluyen:\n",
    "\n",
    "**Varianza aumentada**: Al entrenar cada modelo del ensemble con un subconjunto diferente de datos, se introduce más variabilidad en los modelos individuales. Si la cantidad de datos de entrenamiento es limitada, esto podría aumentar la varianza del modelo, lo que podría conducir a un peor rendimiento.\n",
    "\n",
    "**Sobreajuste**: La mayor variabilidad introducida por bootstrap podría llevar a un sobreajuste, especialmente si la complejidad del modelo es alta. Los modelos individuales podrían adaptarse demasiado a las peculiaridades del subconjunto de datos, en lugar de aprender patrones generales.\n",
    "\n",
    "**Diversidad insuficiente**: Aunque bootstrap se utiliza para introducir diversidad en el ensemble, en algunos casos, podría no ser suficiente para mejorar la generalización del modelo. Si los modelos individuales son muy similares, la ventaja de usar bootstrap podría ser limitada."
   ]
  },
  {
   "cell_type": "markdown",
   "id": "7733a491",
   "metadata": {},
   "source": [
    "Si al **aumentar el valor de max_samples observas una disminución en la precisión**, aquí hay algunas posibles razones:\n",
    "\n",
    "**Menos diversidad en los subconjuntos de datos**: Al aumentar max_samples, cada estimador individual tiene más datos para entrenar, lo que puede llevar a que los subconjuntos de datos de entrenamiento sean más similares entre sí. Esto puede resultar en una reducción de la diversidad entre los modelos individuales, lo cual es fundamental para el éxito de los métodos de ensamblaje como Bagging. La diversidad ayuda a mejorar la generalización y la robustez del modelo.\n",
    "\n",
    "**Menos sesgo pero más variabilidad**: Aumentar max_samples reduce el sesgo de cada modelo individual, ya que tienen más datos para aprender patrones. Sin embargo, también puede aumentar la variabilidad entre los modelos, ya que cada uno está entrenado con más datos únicos. Un aumento en la variabilidad puede afectar negativamente la capacidad del ensamblado para generalizar bien sobre nuevos datos.\n",
    "\n",
    "**Posible sobreajuste**: Al proporcionar más datos para cada modelo individual, existe el riesgo de que los modelos se sobreajusten a los datos de entrenamiento. Esto es más probable si tus modelos individuales son muy complejos y tienen una alta capacidad de adaptación.\n",
    "\n",
    "**Dependencia en la calidad del conjunto de datos**: Si el conjunto de datos es relativamente pequeño o tiene características específicas que pueden generar resultados impredecibles, aumentar max_samples puede no beneficiar el rendimiento del modelo."
   ]
  },
  {
   "cell_type": "markdown",
   "id": "51cd6ff0",
   "metadata": {},
   "source": [
    "En este caso como tenemos el 70% de 285 es pequeño el conjunto de datos entonces esta claro que la dependencia en la calidad del \n",
    "conjunto de datos puede afectar."
   ]
  },
  {
   "cell_type": "markdown",
   "id": "64fe2a10",
   "metadata": {},
   "source": [
    "Para encontrar la configuración óptima, es recomendable realizar una búsqueda sistemática de hiperparámetros y ajustar no solo max_samples, sino también otros parámetros relevantes. Puedes utilizar técnicas como la validación cruzada y la búsqueda en cuadrícula para encontrar la combinación de hiperparámetros que optimice el rendimiento de tu modelo en un conjunto de datos específico.\n",
    "\n",
    "\n",
    "\n",
    "\n",
    "\n"
   ]
  },
  {
   "cell_type": "markdown",
   "id": "408458ec",
   "metadata": {},
   "source": [
    "###### 3.3.3.1.1 VALIDACIÓN CRUZADA"
   ]
  },
  {
   "cell_type": "markdown",
   "id": "6c38a96f",
   "metadata": {},
   "source": [
    "\n",
    "La validación cruzada es una técnica utilizada para evaluar el rendimiento de un modelo y reducir el riesgo de sobreajuste. Hay varias formas de realizar la validación cruzada, y aquí te presentaré dos de las técnicas más comunes: la Validación Cruzada de K-Folds y la Validación Cruzada Estratificada de K-Folds.\n",
    "\n"
   ]
  },
  {
   "cell_type": "markdown",
   "id": "ec66812e",
   "metadata": {},
   "source": [
    "###### 3.3.3.1.1 Validación Cruzada de K-Folds (K-Fold Cross-Validation):\n"
   ]
  },
  {
   "cell_type": "markdown",
   "id": "51a59e7d",
   "metadata": {},
   "source": [
    "En esta técnica, el conjunto de datos se divide en K partes iguales llamadas \"folds\" (pliegues). El modelo se entrena K veces, utilizando un fold diferente como conjunto de prueba en cada iteración, y los restantes folds se utilizan como conjunto de entrenamiento. La métrica de rendimiento se promedia sobre las K iteraciones."
   ]
  },
  {
   "cell_type": "code",
   "execution_count": 37,
   "id": "d5cfd127",
   "metadata": {},
   "outputs": [],
   "source": [
    "kf = KFold(n_splits=5, shuffle=True, random_state=42)"
   ]
  },
  {
   "cell_type": "code",
   "execution_count": 38,
   "id": "ce63f6c8",
   "metadata": {},
   "outputs": [
    {
     "name": "stdout",
     "output_type": "stream",
     "text": [
      "Precisión promedio con Bagging: 39.50%\n"
     ]
    }
   ],
   "source": [
    "scores = cross_val_score(bag_clf, X_train, y_train, cv=kf, scoring='accuracy')\n",
    "# Mostrar los resultados\n",
    "print(\"Precisión promedio con Bagging: {:.2f}%\".format(np.mean(scores) * 100))"
   ]
  },
  {
   "cell_type": "code",
   "execution_count": 39,
   "id": "8dd350d0",
   "metadata": {},
   "outputs": [],
   "source": [
    "stratified_kf = StratifiedKFold(n_splits=kf.get_n_splits(), shuffle=kf.shuffle, random_state=kf.random_state)"
   ]
  },
  {
   "cell_type": "code",
   "execution_count": 40,
   "id": "009d7f56",
   "metadata": {},
   "outputs": [
    {
     "name": "stdout",
     "output_type": "stream",
     "text": [
      "Precisión promedio con Bagging y validación estratificada: 38.50%\n"
     ]
    }
   ],
   "source": [
    "scores = cross_val_score(bag_clf, X_train, y_train, cv=stratified_kf, scoring='accuracy')\n",
    "\n",
    "# Mostrar los resultados\n",
    "print(\"Precisión promedio con Bagging y validación estratificada: {:.2f}%\".format(np.mean(scores) * 100))"
   ]
  },
  {
   "cell_type": "markdown",
   "id": "385da137",
   "metadata": {},
   "source": [
    "en conjuntos de datos pequeños, es posible que la validación cruzada normal proporcione una estimación más precisa del rendimiento del modelo en comparación con la validación cruzada estratificada. En conjuntos de datos pequeños, la estratificación puede no ser tan crítica debido a que la variabilidad en las proporciones de clases entre los pliegues puede no ser tan pronunciada.\n",
    "\n",
    "La validación cruzada estratificada es particularmente útil en conjuntos de datos grandes o cuando hay un desbalance significativo entre las clases. En conjuntos de datos pequeños, la variabilidad en la distribución de clases entre pliegues puede ser menor, y la validación cruzada normal puede proporcionar estimaciones más precisas."
   ]
  },
  {
   "cell_type": "code",
   "execution_count": 44,
   "id": "75879015",
   "metadata": {
    "scrolled": false
   },
   "outputs": [
    {
     "name": "stdout",
     "output_type": "stream",
     "text": [
      "Mejores hiperparámetros: {'max_samples': 10, 'n_estimators': 1000}\n",
      "Mejor precisión promedio: 0.52\n",
      "Precisión en el conjunto de prueba: 0.4418604651162791\n"
     ]
    }
   ],
   "source": [
    "\n",
    "\n",
    "# Definir los hiperparámetros que quieres explorar\n",
    "param_grid = {\n",
    "    'n_estimators': [100,200,300,400,500,600,700,800,900,1000,1100,1200,1300,1400,1500,1600,1700,1800,1900,2000],\n",
    "    'max_samples': [10, 15, 20,25,30,35],\n",
    "    # Otros hiperparámetros que quieras ajustar\n",
    "}\n",
    "\n",
    "# Crear el árbol base\n",
    "tree_model = DecisionTreeClassifier(random_state=3)\n",
    "\n",
    "# Crear el modelo de Bagging\n",
    "bag_clf = BaggingClassifier(\n",
    "    estimator=tree_model,\n",
    "    bootstrap=False,\n",
    "    random_state=3\n",
    ")\n",
    "\n",
    "# Configurar la búsqueda en cuadrícula con validación cruzada\n",
    "grid_search = GridSearchCV(estimator=bag_clf, param_grid=param_grid,cv=5, scoring='accuracy')\n",
    "\n",
    "# Realizar la búsqueda en cuadrícula en los datos\n",
    "grid_search.fit(X_train, y_train)\n",
    "\n",
    "# Mostrar los mejores hiperparámetros encontrados\n",
    "print(\"Mejores hiperparámetros:\", grid_search.best_params_)\n",
    "print(\"Mejor precisión promedio:\", grid_search.best_score_)\n",
    "y_pred_test = grid_search.best_estimator_.predict(X_test)\n",
    "\n",
    "# Calcular la precisión en el conjunto de prueba\n",
    "test_accuracy = metrics.accuracy_score(y_test, y_pred_test)\n",
    "print(\"Precisión en el conjunto de prueba:\", test_accuracy)\n"
   ]
  },
  {
   "cell_type": "markdown",
   "id": "187a40d0",
   "metadata": {},
   "source": [
    "n general, durante la validación cruzada, los pliegues (folds) dividen tu conjunto de datos de entrenamiento en partes más pequeñas. Si tu conjunto de datos de entrenamiento tiene 200 muestras y decides utilizar 5 pliegues en la validación cruzada, cada pliegue contendrá 200 / 5 = 40 muestras.\n",
    "\n",
    "Entonces, si estás ajustando el hiperparámetro max_samples y el valor óptimo resulta ser mayor que 40, podrías estar en una situación en la que estás tratando de subconjuntos más datos de los que están disponibles en un solo pliegue. Esto podría llevar a que el algoritmo no funcione correctamente, ya que no hay suficientes muestras en un solo pliegue para cumplir con la configuración especificada de max_samples.\n",
    "\n",
    "Para evitar este problema, es recomendable elegir valores de max_samples que sean menores o iguales al tamaño de cada pliegue en tu validación cruzada. En tu caso, no deberías seleccionar max_samples mayores a 40 si estás utilizando 5 pliegues en la validación cruzada. Esto garantizará que cada subconjunto utilizado en el ajuste de un modelo durante la validación cruzada sea válido en términos de tamaño de muestra."
   ]
  },
  {
   "cell_type": "code",
   "execution_count": null,
   "id": "c53b1497",
   "metadata": {},
   "outputs": [],
   "source": [
    "# crear objeto de la clase BaggingClassifier\n",
    "bag_clf= BaggingClassifier(\n",
    "    DecisionTreeClassifier(random_state = 3),\n",
    "    n_estimators = 1000,\n",
    "    max_samples =10,\n",
    "    bootstrap=False,\n",
    "    random_state = 3);\n",
    "bag_clf.fit(X_train, y_train)\n",
    "y_pred = bag_clf.predict(X_test)\n",
    "# comprobar resultados\n",
    "print(\"PRECISIÓN:\", metrics.accuracy_score(y_test, y_pred))"
   ]
  },
  {
   "cell_type": "code",
   "execution_count": 42,
   "id": "002dea8b",
   "metadata": {},
   "outputs": [
    {
     "name": "stdout",
     "output_type": "stream",
     "text": [
      "Mejores hiperparámetros: {'max_samples': 35, 'n_estimators': 200}\n",
      "Mejor precisión promedio: 0.54\n",
      "Precisión en el conjunto de prueba: 0.38372093023255816\n"
     ]
    }
   ],
   "source": [
    "# Definir los hiperparámetros que quieres explorar\n",
    "param_grid = {\n",
    "    'n_estimators': [100,200,300,400,500,600,700,800,900,1000,1100,1200,1300,1400,1500,1600,1700,1800,1900,2000],\n",
    "    'max_samples': [10, 15, 20,25,30,35],\n",
    "    # Otros hiperparámetros que quieras ajustar\n",
    "}\n",
    "\n",
    "# Crear el árbol base\n",
    "tree_model = DecisionTreeClassifier(random_state=3)\n",
    "\n",
    "# Crear el modelo de Bagging\n",
    "bag_clf = BaggingClassifier(\n",
    "    estimator=tree_model,\n",
    "    bootstrap=False,\n",
    "    random_state=3\n",
    ")\n",
    "\n",
    "stratified_kf = StratifiedKFold(n_splits=5, shuffle=True, random_state=3)\n",
    "grid_search = GridSearchCV(estimator=bag_clf, param_grid=param_grid, cv=stratified_kf, scoring='accuracy')\n",
    "\n",
    "# Realizar la búsqueda en cuadrícula en los datos\n",
    "grid_search.fit(X_train, y_train)\n",
    "\n",
    "# Mostrar los mejores hiperparámetros encontrados\n",
    "print(\"Mejores hiperparámetros:\", grid_search.best_params_)\n",
    "print(\"Mejor precisión promedio:\", grid_search.best_score_)\n",
    "y_pred_test = grid_search.best_estimator_.predict(X_test)\n",
    "\n",
    "# Calcular la precisión en el conjunto de prueba\n",
    "test_accuracy = metrics.accuracy_score(y_test, y_pred_test)\n",
    "print(\"Precisión en el conjunto de prueba:\", test_accuracy)"
   ]
  },
  {
   "cell_type": "markdown",
   "id": "6ad2fce0",
   "metadata": {},
   "source": [
    "Tarda mas de 10 minutos. Aunque haya mejor precisión promedio despues en la prueba es menor la precisión del conjunto."
   ]
  },
  {
   "cell_type": "markdown",
   "id": "54635408",
   "metadata": {},
   "source": [
    "Random Forest y BaggingClassifier con DecisionTreeClassifier son ambos métodos de ensamblado que buscan mejorar la precisión y la robustez de los modelos predictivos mediante la combinación de múltiples modelos base. Aquí hay algunas diferencias clave entre Random Forest y BaggingClassifier con DecisionTreeClassifier:\n",
    "\n",
    "**Número de Modelos Base**:\n",
    "\n",
    "En Random Forest, se utiliza un conjunto de árboles de decisión como modelos base.\n",
    "En BaggingClassifier con DecisionTreeClassifier, también se utiliza un conjunto de árboles de decisión, pero no se aplican algunas optimizaciones específicas de Random Forest.\n",
    "\n",
    "**Muestreo de Características**:\n",
    "\n",
    "Random Forest utiliza un enfoque llamado \"muestreo de características\" donde, en cada árbol, se selecciona un subconjunto aleatorio de características para dividir en cada nodo. Esto ayuda a diversificar los árboles y reducir la correlación entre ellos.\n",
    "BaggingClassifier con DecisionTreeClassifier no realiza muestreo de características de forma predeterminada y utiliza todas las características en cada árbol.\n",
    "\n",
    "**Votación y Predicciones**:\n",
    "\n",
    "En Random Forest, la predicción final se obtiene promediando (en regresión) o votando (en clasificación) las predicciones de todos los árboles del bosque.\n",
    "En BaggingClassifier con DecisionTreeClassifier, también se realiza votación para clasificación y promediado para regresión, pero debido a que no hay muestreo de características, los árboles pueden tener una mayor correlación entre sí.\n",
    "\n",
    "**Optimizaciones Específicas de Random Forest**:\n",
    "\n",
    "Random Forest introduce algunas optimizaciones específicas, como el muestreo de características y la introducción de aleatoriedad en la construcción de árboles, para mejorar la diversidad y la generalización del modelo.\n",
    "BaggingClassifier con DecisionTreeClassifier es una implementación más general sin estas optimizaciones específicas de Random Forest."
   ]
  },
  {
   "cell_type": "code",
   "execution_count": 60,
   "id": "b5b555c3",
   "metadata": {},
   "outputs": [],
   "source": [
    "# crear objeto de la clase RandomForestClassifier\n",
    "rnd_clf = RandomForestClassifier(n_estimators = 1000, \n",
    "                                 random_state = 3, \n",
    "                                 max_samples = 10);"
   ]
  },
  {
   "cell_type": "code",
   "execution_count": 61,
   "id": "ba9a01f7",
   "metadata": {},
   "outputs": [
    {
     "name": "stdout",
     "output_type": "stream",
     "text": [
      "Precisión: 0.4186046511627907\n"
     ]
    }
   ],
   "source": [
    "rnd_clf.fit(X_train, y_train);\n",
    "y_pred_rf = rnd_clf.predict(X_test);\n",
    "print(\"Precisión:\", metrics.accuracy_score(y_test, y_pred_rf))"
   ]
  },
  {
   "cell_type": "code",
   "execution_count": 62,
   "id": "d83bb4a9",
   "metadata": {},
   "outputs": [
    {
     "name": "stdout",
     "output_type": "stream",
     "text": [
      "Mejores hiperparámetros: {'max_samples': 10, 'n_estimators': 200}\n",
      "Mejor precisión promedio: 0.5200000000000001\n",
      "Precisión en el conjunto de prueba: 0.4186046511627907\n"
     ]
    }
   ],
   "source": [
    "# Definir los hiperparámetros que quieres explorar\n",
    "param_grid = {\n",
    "    'n_estimators': [100,200,300,400,500,600,700,800,900,1000,1100,1200,1300,1400,1500,1600,1700,1800,1900,2000],\n",
    "    'max_samples': [10, 15, 20,25,30,35],\n",
    "    # Otros hiperparámetros que quieras ajustar\n",
    "}\n",
    "\n",
    "rf_model = RandomForestClassifier(random_state=3)\n",
    "\n",
    "# Configurar la búsqueda en cuadrícula con validación cruzada\n",
    "grid_search_rf = GridSearchCV(estimator=rf_model, param_grid=param_grid, cv=5, scoring='accuracy')\n",
    "\n",
    "\n",
    "# Realizar la búsqueda en cuadrícula en los datos\n",
    "grid_search_rf.fit(X_train, y_train)\n",
    "\n",
    "# Mostrar los mejores hiperparámetros encontrados\n",
    "print(\"Mejores hiperparámetros:\", grid_search_rf.best_params_)\n",
    "print(\"Mejor precisión promedio:\", grid_search_rf.best_score_)\n",
    "y_pred_test = grid_search_rf.best_estimator_.predict(X_test)\n",
    "\n",
    "# Calcular la precisión en el conjunto de prueba\n",
    "test_accuracy = metrics.accuracy_score(y_test, y_pred_test)\n",
    "print(\"Precisión en el conjunto de prueba:\", test_accuracy)"
   ]
  },
  {
   "cell_type": "markdown",
   "id": "95c54d0b",
   "metadata": {},
   "source": [
    "##### 3.3.3.1 BOOSTING"
   ]
  },
  {
   "cell_type": "code",
   "execution_count": 4,
   "id": "8590932c",
   "metadata": {},
   "outputs": [],
   "source": [
    "gb_clf = GradientBoostingClassifier(n_estimators = 500,\n",
    "                                    random_state = 3);"
   ]
  },
  {
   "cell_type": "code",
   "execution_count": 11,
   "id": "92331588",
   "metadata": {},
   "outputs": [],
   "source": [
    "# ajustar el modelo\n",
    "gb_clf.fit(X_train, y_train);"
   ]
  },
  {
   "cell_type": "code",
   "execution_count": 13,
   "id": "e0237d37",
   "metadata": {},
   "outputs": [
    {
     "name": "stdout",
     "output_type": "stream",
     "text": [
      "Accuracy: 0.4418604651162791\n"
     ]
    }
   ],
   "source": [
    "# obtener estimaciones del modelo sobre la muestra de test\n",
    "y_pred_gb = gb_clf.predict(X_test);\n",
    "# comprobar resultados\n",
    "print(\"Accuracy:\", metrics.accuracy_score(y_test, y_pred_gb))"
   ]
  },
  {
   "cell_type": "markdown",
   "id": "e43d8ea5",
   "metadata": {},
   "source": [
    "Sin ajustar parece mejor. Ahora realizaremos la busqueda de los parametros adecuados. Antes se ha utilizado la validacion cruzada para obtener los hiperparametros adecuados ahora se realizara de otra manera.\n"
   ]
  },
  {
   "cell_type": "code",
   "execution_count": 15,
   "id": "c902ee52",
   "metadata": {},
   "outputs": [
    {
     "data": {
      "image/png": "[encoded data removed]",
      "text/plain": [
       "<Figure size 800x475 with 1 Axes>"
      ]
     },
     "metadata": {},
     "output_type": "display_data"
    }
   ],
   "source": [
    "# crear un conjunto de posibles valores\n",
    "learning_rates = [1, 0.5, 0.25, 0.1, 0.05, 0.01]\n",
    "max_depths = [1, 2, 3, 4]\n",
    "\n",
    "# inicializamos los vectores de resultados\n",
    "resultados_test = []\n",
    "\n",
    "# bucle para extraer resultados\n",
    "for eta in learning_rates:\n",
    "    for d in max_depths:\n",
    "        gb_clf_i = GradientBoostingClassifier(learning_rate = eta,\n",
    "                                              n_estimators = 500, \n",
    "                                              random_state = 3, \n",
    "                                              max_depth = d);\n",
    "        # entrenamos al modelo\n",
    "        gb_clf_i.fit(X_train, y_train);\n",
    "        \n",
    "        # predicción sobre la muestra de validación\n",
    "        y_pred_test = gb_clf_i.predict(X_test);\n",
    "        \n",
    "        # accuracy de entrenamiento\n",
    "        acc_test = metrics.accuracy_score(y_test, y_pred_test);\n",
    "        \n",
    "        # guardar resultados en el vector\n",
    "        resultados_test.append(acc_test);\n",
    "        \n",
    "# resultados_test[0:6]   # max_depth = 1\n",
    "# resultados_test[6:12]  # max_depth = 2\n",
    "# resultados_test[12:18] # max_depth = 3\n",
    "# resultados_test[18:24] # max_depth = 4\n",
    "# learning_rates\n",
    "\n",
    "# pintamos los resultados de entrenamiento y validación\n",
    "import matplotlib as mpl\n",
    "import matplotlib.pyplot as plt\n",
    "from matplotlib.legend_handler import HandlerLine2D\n",
    "plt.figure(figsize=(8, 4.75))\n",
    "line1, = plt.plot(learning_rates, resultados_test[0:6], \"b\",\n",
    "                  label = \"max_depth = 1\")\n",
    "line2, = plt.plot(learning_rates, resultados_test[6:12], \"r\",\n",
    "                  label = \"max_depth = 2\")\n",
    "line2, = plt.plot(learning_rates, resultados_test[12:18], \"g\",\n",
    "                  label = \"max_depth = 3\")\n",
    "line2, = plt.plot(learning_rates, resultados_test[18:24], \"y\",\n",
    "                  label = \"max_depth = 4\")\n",
    "plt.legend(handler_map={line1: HandlerLine2D(numpoints = 4)})\n",
    "plt.ylabel(\"Precision\")\n",
    "plt.xlabel(\"learning rate\")\n",
    "plt.show()"
   ]
  },
  {
   "cell_type": "markdown",
   "id": "e783868a",
   "metadata": {},
   "source": [
    "Se podria elegir learning rate=0.3 mas o menos y max_depth=3 o 4. Precisión de %44 mas o menos"
   ]
  },
  {
   "cell_type": "markdown",
   "id": "49c01bfc",
   "metadata": {},
   "source": [
    "###### 3.3.3.1 IMPORTANCIA DE LAS VARIABLES EN UN BOOSTING"
   ]
  },
  {
   "cell_type": "code",
   "execution_count": 16,
   "id": "0d7973af",
   "metadata": {},
   "outputs": [],
   "source": [
    "# importancia1\n",
    "gb_clf_i1 = GradientBoostingClassifier(learning_rate = 0.04,\n",
    "                                       n_estimators = 500,\n",
    "                                       random_state = 3,\n",
    "                                       max_depth = 4)\n",
    "\n",
    "gb_clf_i1.fit(X_train, y_train)\n",
    "importancias = gb_clf_i1.feature_importances_\n",
    "indices = np.argsort(importancias)[::-1]"
   ]
  },
  {
   "cell_type": "code",
   "execution_count": 17,
   "id": "d11f740f",
   "metadata": {},
   "outputs": [],
   "source": [
    "# importancia2\n",
    "gb_clf_i2 = GradientBoostingClassifier(learning_rate = 0.27,\n",
    "                                       n_estimators = 500,\n",
    "                                       random_state = 3,\n",
    "                                       max_depth = 4)\n",
    "\n",
    "gb_clf_i2.fit(X_train, y_train)\n",
    "importancias2 = gb_clf_i2.feature_importances_\n",
    "indices2 = np.argsort(importancias2)[::-1]"
   ]
  },
  {
   "cell_type": "code",
   "execution_count": 28,
   "id": "a5746a20",
   "metadata": {},
   "outputs": [
    {
     "data": {
      "image/png": "[encoded data removed]",
      "text/plain": [
       "<Figure size 1200x1300 with 2 Axes>"
      ]
     },
     "metadata": {},
     "output_type": "display_data"
    }
   ],
   "source": [
    "import pandas as pd\n",
    "import matplotlib.pyplot as plt\n",
    "\n",
    "# Supongamos que X es tu conjunto de datos y tiene columnas con nombres\n",
    "# Puedes obtener los nombres de las características con X.columns\n",
    "nombres_variables = X.columns\n",
    "\n",
    "# Crear un DataFrame para la tabla\n",
    "tabla_importancias = pd.DataFrame({\n",
    "    'Nombre de la Variable': nombres_variables[indices],\n",
    "    'Importancia': importancias[indices]\n",
    "})\n",
    "\n",
    "# Gráfico de barras de importancias de la primera configuración (d=1, lr=0.01)\n",
    "plt.figure(figsize=(12, 13))\n",
    "plt.subplot(2, 1, 1)\n",
    "plt.title(\"Importancia de las variables d=1 lr=0.01\")\n",
    "plt.bar(range(X.shape[1]), importancias[indices], color=\"r\", align=\"center\")\n",
    "plt.xticks(range(X.shape[1]), indices)\n",
    "plt.xlim([-1, X.shape[1]])\n",
    "\n",
    "# Gráfico de barras de importancias de la segunda configuración (d=4, lr=0.1)\n",
    "plt.subplot(2, 1, 2)\n",
    "plt.title(\"Importancia de las variables d=4 lr=0.1\")\n",
    "plt.bar(range(X.shape[1]), importancias2[indices2], color=\"r\", align=\"center\")\n",
    "plt.xticks(range(X.shape[1]), indices)\n",
    "plt.xlim([-1, X.shape[1]])\n",
    "\n",
    "# Mostrar el primer gráfico\n",
    "plt.show()\n",
    "\n",
    "\n",
    "\n",
    "\n",
    "\n",
    "\n"
   ]
  },
  {
   "cell_type": "markdown",
   "id": "61edaa92",
   "metadata": {},
   "source": [
    "feature_importances_ TAMBIEN SE PUEDE UTILIZAR EN EL BAGGING ES PARA NO HACER MUY PESADO Y EN CADA UNO ENSEÑAR TECNICAS DISTINTAS:"
   ]
  },
  {
   "cell_type": "code",
   "execution_count": 33,
   "id": "213886f5",
   "metadata": {},
   "outputs": [
    {
     "data": {
      "text/plain": [
       "<matplotlib.table.Table at 0x1dd0d202d70>"
      ]
     },
     "execution_count": 33,
     "metadata": {},
     "output_type": "execute_result"
    },
    {
     "data": {
      "image/png": "[encoded data removed]",
      "text/plain": [
       "<Figure size 1200x600 with 2 Axes>"
      ]
     },
     "metadata": {},
     "output_type": "display_data"
    }
   ],
   "source": [
    "\n",
    "\n",
    "\n",
    "# Configurar la figura sin marco\n",
    "fig, ax = plt.subplots(figsize=(12, 6))\n",
    "ax.axis('off')  # No mostrar ejes\n",
    "\n",
    "# Mostrar tabla de importancias sin marco\n",
    "tabla_axes = fig.add_axes([0, 0, 1, 1])\n",
    "tabla_axes.axis('off')\n",
    "tabla_axes.table(cellText=tabla_importancias.values, colLabels=tabla_importancias.columns, cellLoc='center', loc='center')\n",
    "\n",
    "\n"
   ]
  },
  {
   "cell_type": "markdown",
   "id": "113b3948",
   "metadata": {},
   "source": [
    " En Gradient Boosting, una variable se considera importante si su presencia y valor contribuyen significativamente a la capacidad del modelo para reducir el error. En otras palabras, si se elimina o se ignora esa variable, es probable que el rendimiento predictivo del modelo disminuya.\n",
    "\n"
   ]
  },
  {
   "cell_type": "markdown",
   "id": "8dabdce7",
   "metadata": {},
   "source": [
    "Cuando una variable es identificada como \"importante\" en un modelo de Gradient Boosting y ese modelo logra una buena capacidad predictiva, sugiere que hay una relación significativa entre esa variable y la variable objetivo que estás tratando de predecir.\n",
    "\n",
    "La importancia de una variable en Gradient Boosting se mide por cuánto contribuye esa variable a la reducción del error del modelo. Si una variable es importante, significa que, en el contexto del modelo, la información contenida en esa variable está relacionada de manera relevante con la variable objetivo.\n",
    "\n",
    "Esta relación puede ser de diferentes tipos:\n",
    "\n",
    "Correlación Directa: La variable importante tiene una relación directa y lineal con la variable objetivo.\n",
    "\n",
    "Interacción con Otras Variables: La variable importante puede interactuar con otras variables para afectar la variable objetivo.\n",
    "\n",
    "Información No Lineal: La variable importante podría capturar patrones no lineales en los datos que son cruciales para las predicciones.\n",
    "\n",
    "En resumen, la importancia de una variable en Gradient Boosting sugiere que esa variable está proporcionando información valiosa y relevante para el modelo, y su relación con la variable objetivo es un factor importante en la capacidad del modelo para hacer predicciones precisas.\n",
    "\n",
    "\n",
    "\n",
    "\n"
   ]
  },
  {
   "cell_type": "markdown",
   "id": "50115fc3",
   "metadata": {},
   "source": [
    "### 3.4 PREDECIR LA RECURRENCIA"
   ]
  },
  {
   "cell_type": "markdown",
   "id": "3c95988f",
   "metadata": {},
   "source": [
    "Se utilizaran las mismas tecnicas que en el intento de predecir la malignidad, tal vez este caso sea mejor la prediccion."
   ]
  },
  {
   "cell_type": "code",
   "execution_count": 36,
   "id": "22168789",
   "metadata": {},
   "outputs": [],
   "source": [
    "features=['Deg-malig_numerico','Age_numerico','Menopause_numerico','Tumor-size_numerico','Inv-nodes_numerico','Node-caps_numerico','Breast_numerico','Breast-quad_numerico','Irradiat_numerico'] # Features\n",
    "y2 = DATABASE2['Class_numerico'] # Target variable \n",
    "X2=DATABASE2[features]\n",
    "# Split dataset into training set and test set\n",
    "X2_train, X2_test, y2_train, y2_test = train_test_split(X2, \n",
    "                                                    y2,\n",
    "                                                    test_size=0.3,\n",
    "                                                    random_state=1) # 70% training and 30% test\n"
   ]
  },
  {
   "cell_type": "markdown",
   "id": "c2379a6d",
   "metadata": {},
   "source": [
    "#### 3.4.2 ARBOL DE DECISIÓN"
   ]
  },
  {
   "cell_type": "code",
   "execution_count": 37,
   "id": "d03b7e8c",
   "metadata": {},
   "outputs": [
    {
     "name": "stdout",
     "output_type": "stream",
     "text": [
      "PRECISIÓN: 0.6976744186046512\n"
     ]
    }
   ],
   "source": [
    "# Create Decision Tree classifer object\n",
    "clf2 = DecisionTreeClassifier(random_state=3,\n",
    "                             max_depth=8,\n",
    "                             min_samples_leaf=5\n",
    "                            )\n",
    "\n",
    "# Train Decision Tree Classifer\n",
    "clf2 = clf2.fit(X2_train, y2_train)\n",
    "\n",
    "#Predict the response for test dataset\n",
    "y2_pred = clf2.predict(X2_test)\n",
    "# Model Accuracy\n",
    "print(\"PRECISIÓN:\", metrics.accuracy_score(y2_test, y2_pred))"
   ]
  },
  {
   "cell_type": "markdown",
   "id": "afc0ed30",
   "metadata": {},
   "source": [
    "Parece mejor precisión que con la variable anterior pero hay que tener en cuenta que hay dos clases esto es %50 ya de primeras."
   ]
  },
  {
   "cell_type": "markdown",
   "id": "acfe669f",
   "metadata": {},
   "source": [
    "#### 3.4.3 ENSAMBLE"
   ]
  },
  {
   "cell_type": "markdown",
   "id": "59b1c870",
   "metadata": {},
   "source": [
    "##### 3.4.3.1 BAGGING"
   ]
  },
  {
   "cell_type": "code",
   "execution_count": 45,
   "id": "67c5a0e3",
   "metadata": {},
   "outputs": [],
   "source": [
    "# crear objeto de la clase BaggingClassifier\n",
    "bag2_clf= BaggingClassifier(\n",
    "    DecisionTreeClassifier(random_state = 3),\n",
    "    n_estimators = 500,\n",
    "    max_samples = 75,\n",
    "    bootstrap=False,\n",
    "    random_state = 3);"
   ]
  },
  {
   "cell_type": "code",
   "execution_count": 46,
   "id": "72fc45ed",
   "metadata": {},
   "outputs": [
    {
     "name": "stdout",
     "output_type": "stream",
     "text": [
      "PRECISIÓN: 0.7441860465116279\n"
     ]
    }
   ],
   "source": [
    "\n",
    "bag2_clf.fit(X2_train, y2_train)\n",
    "y2_pred = bag2_clf.predict(X2_test)\n",
    "# comprobar resultados\n",
    "print(\"PRECISIÓN:\", metrics.accuracy_score(y2_test, y2_pred))"
   ]
  },
  {
   "cell_type": "markdown",
   "id": "ed3f1b8d",
   "metadata": {},
   "source": [
    "Ha mejorado"
   ]
  },
  {
   "cell_type": "code",
   "execution_count": 53,
   "id": "5a23ec4d",
   "metadata": {},
   "outputs": [
    {
     "name": "stdout",
     "output_type": "stream",
     "text": [
      "PRECISIÓN: 0.7558139534883721\n"
     ]
    }
   ],
   "source": [
    "# crear objeto de la clase BaggingClassifier\n",
    "bag_clf2= BaggingClassifier(\n",
    "    DecisionTreeClassifier(random_state = 3),\n",
    "    n_estimators = 500,\n",
    "    max_samples = 75,\n",
    "    bootstrap=True,\n",
    "    random_state = 3);\n",
    "bag_clf2.fit(X2_train, y2_train)\n",
    "y2_pred = bag_clf2.predict(X2_test)\n",
    "# comprobar resultados\n",
    "print(\"PRECISIÓN:\", metrics.accuracy_score(y2_test, y2_pred))"
   ]
  },
  {
   "cell_type": "markdown",
   "id": "a26828a0",
   "metadata": {},
   "source": [
    "Mejor con bootstrap"
   ]
  },
  {
   "cell_type": "markdown",
   "id": "35317d69",
   "metadata": {},
   "source": [
    "###### 3.4.3.1.1 VALIDACIÓN CRUZADA"
   ]
  },
  {
   "cell_type": "markdown",
   "id": "5deca3a1",
   "metadata": {},
   "source": [
    "###### 3.4.3.1.1 Validación Cruzada de K-Folds (K-Fold Cross-Validation):"
   ]
  },
  {
   "cell_type": "code",
   "execution_count": 49,
   "id": "9ba7175d",
   "metadata": {},
   "outputs": [],
   "source": [
    "kf = KFold(n_splits=5, shuffle=True, random_state=42)"
   ]
  },
  {
   "cell_type": "code",
   "execution_count": 50,
   "id": "6994f5bf",
   "metadata": {},
   "outputs": [
    {
     "name": "stdout",
     "output_type": "stream",
     "text": [
      "Precisión promedio con Bagging: 72.50%\n"
     ]
    }
   ],
   "source": [
    "scores2 = cross_val_score(bag_clf2, X2_train, y2_train, cv=kf, scoring='accuracy')\n",
    "# Mostrar los resultados\n",
    "print(\"Precisión promedio con Bagging: {:.2f}%\".format(np.mean(scores2) * 100))"
   ]
  },
  {
   "cell_type": "code",
   "execution_count": 51,
   "id": "7328bbcf",
   "metadata": {},
   "outputs": [],
   "source": [
    "stratified_kf = StratifiedKFold(n_splits=kf.get_n_splits(), shuffle=kf.shuffle, random_state=kf.random_state)"
   ]
  },
  {
   "cell_type": "code",
   "execution_count": 54,
   "id": "a7368bbd",
   "metadata": {},
   "outputs": [
    {
     "name": "stdout",
     "output_type": "stream",
     "text": [
      "Precisión promedio con Bagging y validación estratificada: 71.00%\n"
     ]
    }
   ],
   "source": [
    "scores2 = cross_val_score(bag_clf2, X2_train, y2_train, cv=stratified_kf, scoring='accuracy')\n",
    "\n",
    "# Mostrar los resultados\n",
    "print(\"Precisión promedio con Bagging y validación estratificada: {:.2f}%\".format(np.mean(scores2) * 100))"
   ]
  },
  {
   "cell_type": "code",
   "execution_count": null,
   "id": "478873db",
   "metadata": {},
   "outputs": [],
   "source": []
  }
 ],
 "metadata": {
  "kernelspec": {
   "display_name": "Python 3 (ipykernel)",
   "language": "python",
   "name": "python3"
  },
  "language_info": {
   "codemirror_mode": {
    "name": "ipython",
    "version": 3
   },
   "file_extension": ".py",
   "mimetype": "text/x-python",
   "name": "python",
   "nbconvert_exporter": "python",
   "pygments_lexer": "ipython3",
   "version": "3.10.9"
  }
 },
 "nbformat": 4,
 "nbformat_minor": 5
}
